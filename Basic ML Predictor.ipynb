{
 "cells": [
  {
   "cell_type": "code",
   "execution_count": 7,
   "id": "fd539db2",
   "metadata": {},
   "outputs": [],
   "source": [
    "# -Preparing the Data:\n",
    "# Here, age and gender are user input and genre is the output based on predictions\n",
    "\n",
    "import pandas as pd\n",
    "\n",
    "music_data = pd.read_csv('music.csv')\n",
    "music_data\n",
    "X = music_data.drop(columns = ['genre'])\n",
    "X\n",
    "y = music_data['genre']\n",
    "y"
   ]
  },
  {
   "cell_type": "code",
   "execution_count": null,
   "id": "f345dd6b",
   "metadata": {},
   "outputs": [],
   "source": [
    "# -Creating model using an algorithm (decision tree):\n",
    "\n",
    "import pandas as pd\n",
    "from sklearn.tree import DecisionTreeClassifier\n",
    "\n",
    "music_data = pd.read_csv('music.csv')\n",
    "X = music_data.drop(columns = ['genre'])\n",
    "y = music_data['genre']\n",
    "\n",
    "model = DecisionTreeClassifier()\n",
    "model.fit(X, y)\n",
    "predictions = model.predict([ [21, 1], [22, 0] ])\n",
    "predictions"
   ]
  },
  {
   "cell_type": "code",
   "execution_count": 10,
   "id": "8c1ba47a",
   "metadata": {},
   "outputs": [],
   "source": [
    "# -Determining Accuracy of the model:\n",
    "\n",
    "import pandas as pd\n",
    "from sklearn.tree import DecisionTreeClassifier\n",
    "from sklearn.model_selection import train_test_split\n",
    "from sklearn.metrics import accuracy_score\n",
    "\n",
    "music_data = pd.read_csv('music.csv')\n",
    "X = music_data.drop(columns = ['genre'])\n",
    "y = music_data['genre']\n",
    "X_train, X_test, y_train, y_test = train_test_split(X, y, test_size = 0.2)\n",
    "\n",
    "model = DecisionTreeClassifier()\n",
    "model.fit(X_train, y_train)\n",
    "predictions = model.predict(X_test)\n",
    "\n",
    "score = accuracy_score(y_test, predictions)\n",
    "score"
   ]
  },
  {
   "cell_type": "code",
   "execution_count": null,
   "id": "eda6ce89",
   "metadata": {},
   "outputs": [],
   "source": [
    "# -Model Persistence:\n",
    "# joblib - has methods for saving and loading models\n",
    "\n",
    "import pandas as pd\n",
    "from sklearn.tree import DecisionTreeClassifier\n",
    "import joblib\n",
    "\n",
    "#imported the dataset\n",
    "music_data = pd.read_csv('music.csv')\n",
    "X = music_data.drop(columns = ['genre'])\n",
    "y = music_data['genre']\n",
    "\n",
    "#created a model\n",
    "model = DecisionTreeClassifier()\n",
    "#trained it\n",
    "model.fit(X, y)\n",
    "\n",
    "joblib.dump(model, 'music-recommender.joblib')\n",
    "\n",
    "#asked it to make predictions\n",
    "#predictions = model.predict([[21, 1]])"
   ]
  },
  {
   "cell_type": "code",
   "execution_count": null,
   "id": "cd63f373",
   "metadata": {},
   "outputs": [],
   "source": [
    "# -Loading the model:\n",
    "\n",
    "import pandas as pd\n",
    "from sklearn.tree import DecisionTreeClassifier\n",
    "import joblib\n",
    "\n",
    "# music_data = pd.read_csv('music.csv')\n",
    "# X = music_data.drop(columns = ['genre'])\n",
    "# y = music_data['genre']\n",
    "\n",
    "# model = DecisionTreeClassifier()\n",
    "# model.fit(X, y)\n",
    "\n",
    "model = joblib.load('music-recommender.joblib')\n",
    "\n",
    "#asked it to make predictions\n",
    "predictions = model.predict([[21, 1]])\n",
    "predictions"
   ]
  },
  {
   "cell_type": "code",
   "execution_count": 6,
   "id": "4278199b",
   "metadata": {},
   "outputs": [],
   "source": [
    "# -Exporting the model in a visual format (graphical):\n",
    "\n",
    "import pandas as pd\n",
    "from sklearn.tree import DecisionTreeClassifier\n",
    "from sklearn import tree\n",
    "\n",
    "music_data = pd.read_csv('music.csv')\n",
    "X = music_data.drop(columns = ['genre'])\n",
    "y = music_data['genre']\n",
    "\n",
    "model = DecisionTreeClassifier()\n",
    "model.fit(X, y)\n",
    "\n",
    "tree.export_graphviz(model, out_file = 'music-recommender.dot', \n",
    "                     feature_names = ['age', 'gender'], \n",
    "                     class_names = sorted(y.unique()), \n",
    "                     label = 'all', \n",
    "                     rounded = True, \n",
    "                     filled = True)"
   ]
  }
 ],
 "metadata": {
  "kernelspec": {
   "display_name": "Python 3 (ipykernel)",
   "language": "python",
   "name": "python3"
  },
  "language_info": {
   "codemirror_mode": {
    "name": "ipython",
    "version": 3
   },
   "file_extension": ".py",
   "mimetype": "text/x-python",
   "name": "python",
   "nbconvert_exporter": "python",
   "pygments_lexer": "ipython3",
   "version": "3.11.4"
  }
 },
 "nbformat": 4,
 "nbformat_minor": 5
}
